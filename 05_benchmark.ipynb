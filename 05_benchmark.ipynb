{
 "cells": [
  {
   "cell_type": "code",
   "execution_count": 1,
   "id": "4b56c4d9-8482-49a2-8c68-2d35b1a4ef84",
   "metadata": {},
   "outputs": [],
   "source": [
    "import wandb\n",
    "from youtube import download_youtube_audio"
   ]
  },
  {
   "cell_type": "code",
   "execution_count": 2,
   "id": "9ad278e4-ff61-43bb-84f3-f76f43b779bf",
   "metadata": {},
   "outputs": [],
   "source": [
    "url = \"https://www.youtube.com/watch?v=-kFOXP026eE&list=PLS3_1JNX8dEh5YcO-Y05stU0u_T9nqIlF&index=1\""
   ]
  },
  {
   "cell_type": "code",
   "execution_count": 3,
   "id": "b8d56788-4cc5-4e1b-8213-cd9bc1397e2b",
   "metadata": {},
   "outputs": [
    {
     "data": {
      "text/plain": [
       "'/home/tcapelle/wandb/whisper/./richard_feynman_messenger_lectures_at_cornell__the_character_of_physical_law__part_1_the_law_of_gravitation.mp4'"
      ]
     },
     "execution_count": 3,
     "metadata": {},
     "output_type": "execute_result"
    }
   ],
   "source": [
    "audio_file = download_youtube_audio(url)\n",
    "audio_file"
   ]
  },
  {
   "cell_type": "code",
   "execution_count": 4,
   "id": "0208d5e9-5aad-4472-b3fb-f1cd938c4abc",
   "metadata": {},
   "outputs": [
    {
     "data": {
      "text/plain": [
       "'/home/tcapelle/wandb/whisper/./richard_feynman_messenger_lectures_at_cornell__the_character_of_physical_law__part_1_the_law_of_gravitation.mp4'"
      ]
     },
     "execution_count": 4,
     "metadata": {},
     "output_type": "execute_result"
    }
   ],
   "source": [
    "audio_file"
   ]
  },
  {
   "cell_type": "code",
   "execution_count": 19,
   "id": "5562f0be-6ae3-4f40-9792-e33b41659901",
   "metadata": {},
   "outputs": [
    {
     "name": "stderr",
     "output_type": "stream",
     "text": [
      "Failed to detect the name of this notebook, you can set it manually with the WANDB_NOTEBOOK_NAME environment variable to enable code saving.\n",
      "\u001b[34m\u001b[1mwandb\u001b[0m: Currently logged in as: \u001b[33mcapecape\u001b[0m. Use \u001b[1m`wandb login --relogin`\u001b[0m to force relogin\n"
     ]
    },
    {
     "data": {
      "text/html": [
       "wandb version 0.13.3 is available!  To upgrade, please run:\n",
       " $ pip install wandb --upgrade"
      ],
      "text/plain": [
       "<IPython.core.display.HTML object>"
      ]
     },
     "metadata": {},
     "output_type": "display_data"
    },
    {
     "data": {
      "text/html": [
       "Tracking run with wandb version 0.13.2"
      ],
      "text/plain": [
       "<IPython.core.display.HTML object>"
      ]
     },
     "metadata": {},
     "output_type": "display_data"
    },
    {
     "data": {
      "text/html": [
       "Run data is saved locally in <code>/home/tcapelle/wandb/whisper/wandb/run-20220927_162350-19r4kik9</code>"
      ],
      "text/plain": [
       "<IPython.core.display.HTML object>"
      ]
     },
     "metadata": {},
     "output_type": "display_data"
    },
    {
     "data": {
      "text/html": [
       "Syncing run <strong><a href=\"https://wandb.ai/capecape/whisper/runs/19r4kik9\" target=\"_blank\">apricot-wildflower-1</a></strong> to <a href=\"https://wandb.ai/capecape/whisper\" target=\"_blank\">Weights & Biases</a> (<a href=\"https://wandb.me/run\" target=\"_blank\">docs</a>)<br/>"
      ],
      "text/plain": [
       "<IPython.core.display.HTML object>"
      ]
     },
     "metadata": {},
     "output_type": "display_data"
    },
    {
     "data": {
      "text/html": [
       "Waiting for W&B process to finish... <strong style=\"color:green\">(success).</strong>"
      ],
      "text/plain": [
       "<IPython.core.display.HTML object>"
      ]
     },
     "metadata": {},
     "output_type": "display_data"
    },
    {
     "data": {
      "application/vnd.jupyter.widget-view+json": {
       "model_id": "",
       "version_major": 2,
       "version_minor": 0
      },
      "text/plain": [
       "VBox(children=(Label(value='50.954 MB of 50.954 MB uploaded (0.000 MB deduped)\\r'), FloatProgress(value=1.0, m…"
      ]
     },
     "metadata": {},
     "output_type": "display_data"
    },
    {
     "data": {
      "text/html": [
       "Synced <strong style=\"color:#cdcd00\">apricot-wildflower-1</strong>: <a href=\"https://wandb.ai/capecape/whisper/runs/19r4kik9\" target=\"_blank\">https://wandb.ai/capecape/whisper/runs/19r4kik9</a><br/>Synced 4 W&B file(s), 0 media file(s), 1 artifact file(s) and 0 other file(s)"
      ],
      "text/plain": [
       "<IPython.core.display.HTML object>"
      ]
     },
     "metadata": {},
     "output_type": "display_data"
    },
    {
     "data": {
      "text/html": [
       "Find logs at: <code>./wandb/run-20220927_162350-19r4kik9/logs</code>"
      ],
      "text/plain": [
       "<IPython.core.display.HTML object>"
      ]
     },
     "metadata": {},
     "output_type": "display_data"
    }
   ],
   "source": [
    "with wandb.init(project=\"whisper\", job_type=\"log_artifact\"):\n",
    "    at = wandb.Artifact(\"audio_file\", type=\"audio\", description=\"Richard Feymann Lectures at Cornell: Part 1\", \n",
    "                        metadata={\"url\":url})\n",
    "    at.add_file(audio_file)\n",
    "    wandb.log_artifact(at)"
   ]
  },
  {
   "cell_type": "markdown",
   "id": "657e2039-7146-461e-a0ea-853a526fee55",
   "metadata": {
    "tags": []
   },
   "source": [
    "## Whisper"
   ]
  },
  {
   "cell_type": "code",
   "execution_count": 1,
   "id": "4a660c2e-2c26-4d10-993a-43b4a80dd820",
   "metadata": {},
   "outputs": [],
   "source": [
    "import torch\n",
    "import wandb\n",
    "import whisper\n",
    "from whisper.transcribe import write_vtt\n",
    "from types import SimpleNamespace\n",
    "\n",
    "from pathlib import Path"
   ]
  },
  {
   "cell_type": "code",
   "execution_count": 20,
   "id": "037d56dd-ebe0-4d35-b712-2ec8c48a23c2",
   "metadata": {},
   "outputs": [],
   "source": [
    "device = \"cuda\" if torch.cuda.is_available() else \"cpu\"\n",
    "model_name = \"tiny.en\"\n",
    "artifact = 'capecape/whisper/audio_file:v0'\n",
    "url = \"https://www.youtube.com/watch?v=-kFOXP026eE&list=PLS3_1JNX8dEh5YcO-Y05stU0u_T9nqIlF&index=1\"\n",
    "fname = \"richard_feynman_messenger_lectures_at_cornell__the_character_of_physical_law__part_1_the_law_of_gravitation.mp4\""
   ]
  },
  {
   "cell_type": "code",
   "execution_count": 33,
   "id": "49c57029-7ec0-4544-90fa-a128cbc8a432",
   "metadata": {},
   "outputs": [],
   "source": [
    "def transcribe_file(model, file, log=True, language=\"en\", log_predictions=False):\n",
    "    \"Run whisper on an audio file and save results\"\n",
    "    print(f\"Transcribing file: {file}\")\n",
    "    \n",
    "    result = model.transcribe(str(file), verbose=False, log=log, language=language)\n",
    "    out_file = Path.cwd()/Path(file).name\n",
    "    \n",
    "    # save TXT\n",
    "    with open(out_file.with_suffix(\".txt\"), \"w\", encoding=\"utf-8\") as txt:\n",
    "        print(result[\"text\"], file=txt)\n",
    "    if log_predictions:\n",
    "        at = wandb.Artifact(\"model_predictions\", type=\"text\", description=\"Models output for Feynman's lecture\")\n",
    "        at.add_file(out_file.with_suffix(\".txt\"))\n",
    "        wandb.log_artifact(at)\n",
    "        wandb.run.log_code(\".\", include_fn=lambda path: path.endswith(\".txt\") )\n",
    "    # save VTT\n",
    "    with open(out_file.with_suffix(\".vtt\"), \"w\", encoding=\"utf-8\") as vtt:\n",
    "        write_vtt(result[\"segments\"], file=vtt)\n",
    "    return result"
   ]
  },
  {
   "cell_type": "code",
   "execution_count": 34,
   "id": "5830bd6a-0e00-46ed-974b-8150fe4740da",
   "metadata": {},
   "outputs": [],
   "source": [
    "models = \"tiny.en,base.en,small.en,medium.en\".split(\",\")"
   ]
  },
  {
   "cell_type": "code",
   "execution_count": null,
   "id": "fcf47fc1-01cb-41f8-9175-6b8cca29ef10",
   "metadata": {},
   "outputs": [
    {
     "data": {
      "text/html": [
       "wandb version 0.13.3 is available!  To upgrade, please run:\n",
       " $ pip install wandb --upgrade"
      ],
      "text/plain": [
       "<IPython.core.display.HTML object>"
      ]
     },
     "metadata": {},
     "output_type": "display_data"
    },
    {
     "data": {
      "text/html": [
       "Tracking run with wandb version 0.13.2"
      ],
      "text/plain": [
       "<IPython.core.display.HTML object>"
      ]
     },
     "metadata": {},
     "output_type": "display_data"
    },
    {
     "data": {
      "text/html": [
       "Run data is saved locally in <code>/home/tcapelle/wandb/whisper/wandb/run-20220927_210902-l6dqqejw</code>"
      ],
      "text/plain": [
       "<IPython.core.display.HTML object>"
      ]
     },
     "metadata": {},
     "output_type": "display_data"
    },
    {
     "data": {
      "text/html": [
       "Syncing run <strong><a href=\"https://wandb.ai/capecape/whisper/runs/l6dqqejw\" target=\"_blank\">silvery-bird-31</a></strong> to <a href=\"https://wandb.ai/capecape/whisper\" target=\"_blank\">Weights & Biases</a> (<a href=\"https://wandb.me/run\" target=\"_blank\">docs</a>)<br/>"
      ],
      "text/plain": [
       "<IPython.core.display.HTML object>"
      ]
     },
     "metadata": {},
     "output_type": "display_data"
    }
   ],
   "source": [
    "for _ in range(1):\n",
    "    for model_name in models:\n",
    "        model = whisper.load_model(model_name).to(device)\n",
    "        config = SimpleNamespace(model=model_name, device=device, url=url, fname=fname, artifact=artifact)    \n",
    "        with wandb.init(project=\"whisper\", job_type=\"bench\", config=config):\n",
    "            artifact = wandb.use_artifact('capecape/whisper/audio_file:v0', type='audio')\n",
    "            audio_file = Path(artifact.download())/fname\n",
    "            res = transcribe_file(model, audio_file, log_predictions=True)"
   ]
  },
  {
   "cell_type": "code",
   "execution_count": null,
   "id": "ae690c6d-cf34-4e8a-a041-56d5c505df7e",
   "metadata": {},
   "outputs": [],
   "source": []
  }
 ],
 "metadata": {
  "kernelspec": {
   "display_name": "Python 3 (ipykernel)",
   "language": "python",
   "name": "python3"
  },
  "language_info": {
   "codemirror_mode": {
    "name": "ipython",
    "version": 3
   },
   "file_extension": ".py",
   "mimetype": "text/x-python",
   "name": "python",
   "nbconvert_exporter": "python",
   "pygments_lexer": "ipython3",
   "version": "3.10.4"
  }
 },
 "nbformat": 4,
 "nbformat_minor": 5
}
